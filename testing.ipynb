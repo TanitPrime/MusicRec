{
 "cells": [
  {
   "cell_type": "markdown",
   "metadata": {},
   "source": [
    "* select playlist\n",
    "* map each track to features\n",
    "* preprocess\n",
    "* make sequences"
   ]
  },
  {
   "cell_type": "code",
   "execution_count": 18,
   "metadata": {},
   "outputs": [],
   "source": [
    "import json\n",
    "import os\n",
    "import pandas as pd\n",
    "import numpy as np\n",
    "import torch\n",
    "from sentence_transformers import SentenceTransformer\n",
    "from torch.utils.data import Dataset, DataLoader, Subset\n",
    "import torch.nn.functional as F\n",
    "import matplotlib.pyplot as plt"
   ]
  },
  {
   "cell_type": "markdown",
   "metadata": {},
   "source": [
    "### Import data"
   ]
  },
  {
   "cell_type": "code",
   "execution_count": null,
   "metadata": {},
   "outputs": [
    {
     "name": "stderr",
     "output_type": "stream",
     "text": [
      "C:\\Users\\Thistle\\AppData\\Local\\Temp\\ipykernel_3264\\2504704790.py:2: FutureWarning: You are using `torch.load` with `weights_only=False` (the current default value), which uses the default pickle module implicitly. It is possible to construct malicious pickle data which will execute arbitrary code during unpickling (See https://github.com/pytorch/pytorch/blob/main/SECURITY.md#untrusted-models for more details). In a future release, the default value for `weights_only` will be flipped to `True`. This limits the functions that could be executed during unpickling. Arbitrary objects will no longer be allowed to be loaded via this mode unless they are explicitly allowlisted by the user via `torch.serialization.add_safe_globals`. We recommend you start setting `weights_only=True` for any use case where you don't have full control of the loaded file. Please open an issue on GitHub for any issues related to this experimental feature.\n",
      "  all_features= torch.load('features_tensors.pt')\n"
     ]
    }
   ],
   "source": [
    "# Import all features and id to index mapping\n",
    "all_features= torch.load('features_tensors.pt')\n",
    "\n",
    "# Import ID to index map\n",
    "with open(\"id_to_idx.json\" , \"r\") as f:\n",
    "    id_to_idx= json.load(f)\n",
    "\n",
    "# Load playlists\n",
    "with open(\"clean_playlists.json\", \"r\") as f:\n",
    "    playlists= json.load(f)"
   ]
  },
  {
   "cell_type": "code",
   "execution_count": null,
   "metadata": {},
   "outputs": [],
   "source": [
    "class preprocess:\n",
    "    def __init__(self, filepath):\n",
    "        playlists= self.load_playlists(filepath)\n",
    "\n",
    "    def load_playlists(filepath = \"clean_playlists.json\"):\n",
    "        \"\"\"Load playlists from dataset\"\"\"\n",
    "        with open(filepath, \"r\") as f:\n",
    "            return  json.load(f)\n",
    "\n",
    "    def get_ids_by_pid(pid):\n",
    "        \"\"\"Returns track IDs by playlist PID\"\"\"\n",
    "        return playlists[pid][\"tracks\"]\n",
    "    \n",
    "    def get_name_by_pid(pid):\n",
    "        \"\"\"Returns playlist name/title by PID\"\"\"\n",
    "        return playlists[pid][\"name\"]\n",
    "    \n",
    "    def get_ids_by_spotify():\n",
    "        \"\"\"Return  track IDs from spotify\"\"\"\n",
    "        # Todo\n",
    "        return None\n",
    "    \n",
    "    def get_name_by_spotify():\n",
    "        \"\"\"Return  track IDs from spotify\"\"\"\n",
    "        # Todo\n",
    "        return None\n",
    "    \n",
    "    def ids_to_features(ids, features):\n",
    "        \"\"\"Return list of features that correspond to provided IDs\"\"\"\n",
    "        # Todo: either make it work with local storage first or make it work with pinecone straight ahead\n"
   ]
  },
  {
   "cell_type": "code",
   "execution_count": null,
   "metadata": {},
   "outputs": [],
   "source": [
    "\n",
    "\n",
    "def get_playlist(pid):\n",
    "    \"\"\" Returns playlist name and tracks by PID\"\"\"\n",
    "    return playlists[pid][\"name\"], playlists[pid][\"tracks\"]"
   ]
  },
  {
   "cell_type": "code",
   "execution_count": 23,
   "metadata": {},
   "outputs": [
    {
     "data": {
      "text/plain": [
       "41"
      ]
     },
     "execution_count": 23,
     "metadata": {},
     "output_type": "execute_result"
    }
   ],
   "source": [
    "example_playlist= \"980063\"\n",
    "playlist= get_playlist(example_playlist)\n",
    "len(playlist[1])"
   ]
  },
  {
   "cell_type": "code",
   "execution_count": 24,
   "metadata": {},
   "outputs": [
    {
     "name": "stdout",
     "output_type": "stream",
     "text": [
      "<class 'numpy.ndarray'>\n"
     ]
    }
   ],
   "source": [
    "def ids_to_features(ids):\n",
    "    \"\"\" Map playlist IDs to corresponding features\"\"\"\n",
    "    return [features.loc[features[\"track_id\"] == id].drop(columns=[\"track_id\"]).values[0] for id in ids]\n",
    "\n",
    "playlist_features= ids_to_features(next(iter(playlists.values()))[\"tracks\"] )\n",
    "print(type(playlist_features[0]))"
   ]
  },
  {
   "cell_type": "code",
   "execution_count": 25,
   "metadata": {},
   "outputs": [],
   "source": [
    "def encode_and_normalise(playlist_name):\n",
    "    \"\"\" Sentence Transform playlist name and normalise\"\"\"\n",
    "    transformer = SentenceTransformer(\"all-MiniLM-L6-v2\")\n",
    "    embeddings= transformer.encode(playlist_name)\n",
    "    norm = np.linalg.norm(embeddings)\n",
    "    return embeddings / norm if norm != 0 else embeddings"
   ]
  },
  {
   "cell_type": "code",
   "execution_count": 26,
   "metadata": {},
   "outputs": [],
   "source": [
    "def preprocess_indiv_playlist(pid, sequence_length):\n",
    "    \"\"\" Preprocess playlist into sequences and targets and name embeddings to be ready for the model\n",
    "        args:\n",
    "            pid: playlist id\n",
    "    \"\"\"\n",
    "\n",
    "    # Get playlist by id\n",
    "    playlist_name, track_ids= get_playlist(pid)\n",
    "\n",
    "    # tracks ids to features idx map\n",
    "    #id_to_idx= {track_id: idx for idx, track_id in enumerate(features[\"track_id\"]) if track_id in track_ids}\n",
    "    map= {k:v for k, v in id_to_idx.items() if k in track_ids}\n",
    "    # Map IDs to features\n",
    "    playlist_features= ids_to_features(map)\n",
    "\n",
    "    # Make sequences and targets and embs\n",
    "    sequences= []\n",
    "    targets= []\n",
    "    playlist_name_embs= encode_and_normalise(playlist_name)\n",
    "    for i in range(len(playlist_features) - sequence_length):    \n",
    "        input_sequence = [song_features for song_features in playlist_features[i:i + sequence_length]]\n",
    "        sequence= np.array(input_sequence)\n",
    "        sequences.append(sequence)\n",
    "\n",
    "        target= playlist_features[i + sequence_length]\n",
    "        targets.append(np.array(target))\n",
    "\n",
    "    print(f\"{len(sequences)} sequences made from '{playlist_name}' playlist\")\n",
    "    return (torch.tensor(np.array([playlist_name_embs for _ in range(len(sequences))]), dtype=torch.float32),\n",
    "            torch.tensor(sequences, dtype=torch.float32),\n",
    "            torch.tensor(targets, dtype=torch.float32),\n",
    "            map)"
   ]
  },
  {
   "cell_type": "code",
   "execution_count": 27,
   "metadata": {},
   "outputs": [
    {
     "name": "stdout",
     "output_type": "stream",
     "text": [
      "36 sequences made from 'Gym' playlist\n"
     ]
    }
   ],
   "source": [
    "embs, sequences, targets, playlist_id_to_idx= preprocess_indiv_playlist(example_playlist, 5)"
   ]
  },
  {
   "cell_type": "code",
   "execution_count": 10,
   "metadata": {},
   "outputs": [
    {
     "name": "stdout",
     "output_type": "stream",
     "text": [
      "torch.Size([36, 384])\n",
      "torch.Size([36, 5, 19, 384])\n",
      "torch.Size([36, 19, 384])\n"
     ]
    }
   ],
   "source": [
    "print(embs.shape)\n",
    "print(sequences.shape)\n",
    "print(targets.shape)"
   ]
  },
  {
   "cell_type": "code",
   "execution_count": 28,
   "metadata": {},
   "outputs": [],
   "source": [
    "import torch.nn as nn\n",
    "# Defining RNN model with GRU and Soft Gating\n",
    "class MusicRec(nn.Module):\n",
    "    def __init__(self, target_feature_count= 19):\n",
    "        super().__init__()\n",
    "        self.target_feature_count= target_feature_count\n",
    "        self.gru = nn.GRU(19*384, 512, batch_first=True)\n",
    "        self.name_gate = nn.Linear(384, 19)  # 19 features to modulate\n",
    "        self.head = nn.Sequential(\n",
    "            nn.Dropout(0.3), # dropout for overfitting\n",
    "            nn.Linear(512, target_feature_count * 384))  # Predict all features\n",
    "\n",
    "    def forward(self, x, name_emb):\n",
    "        # x: [batch, 5, 19, 384]\n",
    "        # name_emb: [batch, 384]\n",
    "\n",
    "        # Soft gating \n",
    "        gates= torch.sigmoid(self.name_gate(name_emb)) # [batch, 19]\n",
    "        x = x * gates.unsqueeze(1).unsqueeze(-1)  # [batch, 5, 19, 384]\n",
    "\n",
    "        # flatten x to [batch, 5, 19*384]\n",
    "        x = x.flatten(2)  \n",
    "\n",
    "        # Process sequence\n",
    "        _, hidden = self.gru(x)\n",
    "        \n",
    "        pred = self.head(hidden.squeeze(0))  # [batch, 19*384]\n",
    "        return pred.view(-1, self.target_feature_count, 384)  # Reshape to [batch, 19, 384]"
   ]
  },
  {
   "cell_type": "code",
   "execution_count": 29,
   "metadata": {},
   "outputs": [
    {
     "name": "stderr",
     "output_type": "stream",
     "text": [
      "C:\\Users\\Thistle\\AppData\\Local\\Temp\\ipykernel_3264\\696543663.py:10: FutureWarning: You are using `torch.load` with `weights_only=False` (the current default value), which uses the default pickle module implicitly. It is possible to construct malicious pickle data which will execute arbitrary code during unpickling (See https://github.com/pytorch/pytorch/blob/main/SECURITY.md#untrusted-models for more details). In a future release, the default value for `weights_only` will be flipped to `True`. This limits the functions that could be executed during unpickling. Arbitrary objects will no longer be allowed to be loaded via this mode unless they are explicitly allowlisted by the user via `torch.serialization.add_safe_globals`. We recommend you start setting `weights_only=True` for any use case where you don't have full control of the loaded file. Please open an issue on GitHub for any issues related to this experimental feature.\n",
      "  model.load_state_dict(torch.load(\"best_model.pth\"))\n"
     ]
    },
    {
     "data": {
      "text/plain": [
       "<All keys matched successfully>"
      ]
     },
     "execution_count": 29,
     "metadata": {},
     "output_type": "execute_result"
    }
   ],
   "source": [
    "# Load model state\n",
    "# Config \n",
    "config = {\n",
    "    \"batch_size\": 128,\n",
    "    \"lr\": 3e-4,\n",
    "    \"epochs\": 10,\n",
    "    \"device\": torch.device(\"cuda\" if torch.cuda.is_available() else \"cpu\")\n",
    "}\n",
    "model = MusicRec().to(config[\"device\"])\n",
    "model.load_state_dict(torch.load(\"best_model.pth\"))\n"
   ]
  },
  {
   "cell_type": "code",
   "execution_count": 31,
   "metadata": {},
   "outputs": [
    {
     "name": "stdout",
     "output_type": "stream",
     "text": [
      "Average cosine similarity: 0.825\n",
      "First prediction shape: torch.Size([19, 384])\n"
     ]
    }
   ],
   "source": [
    "def predict_playlist(model, input_windows, title_embs, targets):\n",
    "    \"\"\"\n",
    "    Args:\n",
    "        input_windows: [N, 5, 19, 384] tensor\n",
    "        title_embs: [N, 384] tensor\n",
    "        targets: [N, 19, 384] tensor (for evaluation)\n",
    "    Returns:\n",
    "        Dictionary of predictions and metrics\n",
    "    \"\"\"\n",
    "    model.eval()\n",
    "    results = {\n",
    "        'predictions': [],\n",
    "        'similarities': [],\n",
    "        'mean_similarity': None\n",
    "    }\n",
    "    \n",
    "    with torch.no_grad():\n",
    "        for i in range(len(input_windows)):\n",
    "            # Get batch (unsqueeze for batch dim)\n",
    "            input_seq = input_windows[i].unsqueeze(0)  # [1, 5, 19, 384]\n",
    "            title_emb = title_embs[i].unsqueeze(0)     # [1, 384]\n",
    "            \n",
    "            # Predict\n",
    "            pred = model(input_seq, title_emb)  # [1, 19, 384]\n",
    "            pred = pred.squeeze(0)              # [19, 384]\n",
    "            \n",
    "            # Store results\n",
    "            results['predictions'].append(pred)\n",
    "            \n",
    "            # Calculate similarity if targets provided\n",
    "            if targets is not None:\n",
    "                sim = F.cosine_similarity(\n",
    "                    pred.flatten(),\n",
    "                    targets[i].flatten(),\n",
    "                    dim=0\n",
    "                ).item()\n",
    "                results['similarities'].append(sim)\n",
    "    \n",
    "    if targets is not None:\n",
    "        results['mean_similarity'] = np.mean(results['similarities'])\n",
    "    \n",
    "    return results\n",
    "\n",
    "\n",
    "results = predict_playlist(model, sequences, embs, targets)\n",
    "\n",
    "print(f\"Average cosine similarity: {results['mean_similarity']:.3f}\")\n",
    "print(f\"First prediction shape: {results['predictions'][0].shape}\")"
   ]
  },
  {
   "cell_type": "code",
   "execution_count": 14,
   "metadata": {},
   "outputs": [
    {
     "data": {
      "image/png": "[encoded data removed]",
      "text/plain": [
       "<Figure size 1000x400 with 1 Axes>"
      ]
     },
     "metadata": {},
     "output_type": "display_data"
    }
   ],
   "source": [
    "def plot_similarities(similarities):\n",
    "    plt.figure(figsize=(10, 4))\n",
    "    plt.plot(similarities, 'o-')\n",
    "    plt.axhline(y=np.mean(similarities), color='r', linestyle='--')\n",
    "    plt.title(f\"Cosine Similarities (Mean: {np.mean(similarities):.2f})\")\n",
    "    plt.xlabel(\"Sequence Index\")\n",
    "    plt.ylabel(\"Similarity\")\n",
    "    plt.show()\n",
    "\n",
    "# Usage:\n",
    "plot_similarities(results['similarities'])"
   ]
  },
  {
   "cell_type": "code",
   "execution_count": 32,
   "metadata": {},
   "outputs": [
    {
     "data": {
      "text/plain": [
       "[('2aoo2jlRnM3A0NyLQqMN2f', 0.9122483134269714),\n",
       " ('7aySoZnwt7c6lA54qVVUOk', 0.9120509624481201),\n",
       " ('6R6ux6KaKrhAg2EIB2krdU', 0.9113379120826721)]"
      ]
     },
     "execution_count": 32,
     "metadata": {},
     "output_type": "execute_result"
    }
   ],
   "source": [
    "import torch\n",
    "import pandas as pd\n",
    "from torch.nn.functional import cosine_similarity\n",
    "\n",
    "def find_closest_ids(predicted_features, all_features, features_ids, top_k=3):\n",
    "    \"\"\"\n",
    "    Args:\n",
    "        predicted_features: torch.Tensor of shape [19, 384]\n",
    "        features_df: pd.DataFrame where:\n",
    "            - First column: 'id' (song identifiers)\n",
    "            - Next 19 columns: Feature arrays (each shape [384])\n",
    "        top_k: Number of matches to return\n",
    "    Returns:\n",
    "        List of tuples (id, similarity_score) sorted by best matches\n",
    "    \"\"\"\n",
    "    # Convert predicted features to normalized tensor\n",
    "    pred_tensor = predicted_features.unsqueeze(0)  # [1, 19, 384]\n",
    "    pred_tensor = torch.nn.functional.normalize(pred_tensor, dim=-1)\n",
    "\n",
    "    # Normalize all features (L2 norm per 384-dim vector)\n",
    "    all_features = F.normalize(all_features, dim=-1)  # Crucial for cosine similarity\n",
    "\n",
    "    # Vectorized cosine similarity (batched)\n",
    "    sims = (pred_tensor * all_features).sum(dim=-1)  # [100000, 19]\n",
    "    mean_sims = sims.mean(dim=1)  # [100000]\n",
    "    \n",
    "    # Get top K matches\n",
    "    top_indices = mean_sims.argsort(descending=True)[:top_k]\n",
    "    return [(features_ids[i], mean_sims[i].item()) for i in top_indices]\n",
    "\n",
    "similarities= find_closest_ids(results[\"predictions\"][0], all_features, features_ids,3)\n",
    "\n",
    "similarities"
   ]
  },
  {
   "cell_type": "code",
   "execution_count": 33,
   "metadata": {},
   "outputs": [],
   "source": [
    "top_matches= find_closest_ids(results[\"predictions\"][-1], all_features, features_ids, 3)"
   ]
  },
  {
   "cell_type": "code",
   "execution_count": 34,
   "metadata": {},
   "outputs": [
    {
     "name": "stdout",
     "output_type": "stream",
     "text": [
      "0343bYQtSfznf6v90jRLRK\n",
      "2ZICF8SFI5tHttaLJKMY1X\n"
     ]
    }
   ],
   "source": [
    "next_song_id = top_matches[0][0]\n",
    "print(next_song_id)\n",
    "print(list(playlist_id_to_idx.keys())[-1])"
   ]
  }
 ],
 "metadata": {
  "kernelspec": {
   "display_name": "Python 3",
   "language": "python",
   "name": "python3"
  },
  "language_info": {
   "codemirror_mode": {
    "name": "ipython",
    "version": 3
   },
   "file_extension": ".py",
   "mimetype": "text/x-python",
   "name": "python",
   "nbconvert_exporter": "python",
   "pygments_lexer": "ipython3",
   "version": "3.12.5"
  }
 },
 "nbformat": 4,
 "nbformat_minor": 2
}
